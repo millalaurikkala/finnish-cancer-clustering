{
 "cells": [
  {
   "cell_type": "code",
   "execution_count": 2,
   "id": "91b24764-12c8-4d81-86a5-7535ece6afff",
   "metadata": {
    "tags": []
   },
   "outputs": [],
   "source": [
    "### script for performing some preliminary preprocessing for the data ###"
   ]
  },
  {
   "cell_type": "code",
   "execution_count": 3,
   "id": "e438f97b-e579-4eec-bbf0-97395d969320",
   "metadata": {
    "tags": []
   },
   "outputs": [],
   "source": [
    "# import required packages\n",
    "\n",
    "import pandas as pd"
   ]
  },
  {
   "cell_type": "code",
   "execution_count": 15,
   "id": "c11e7c78-3b8b-4db5-8428-825dad79fdd7",
   "metadata": {
    "tags": []
   },
   "outputs": [
    {
     "data": {
      "text/html": [
       "<div>\n",
       "<style scoped>\n",
       "    .dataframe tbody tr th:only-of-type {\n",
       "        vertical-align: middle;\n",
       "    }\n",
       "\n",
       "    .dataframe tbody tr th {\n",
       "        vertical-align: top;\n",
       "    }\n",
       "\n",
       "    .dataframe thead th {\n",
       "        text-align: right;\n",
       "    }\n",
       "</style>\n",
       "<table border=\"1\" class=\"dataframe\">\n",
       "  <thead>\n",
       "    <tr style=\"text-align: right;\">\n",
       "      <th></th>\n",
       "      <th>Sex</th>\n",
       "      <th>Cancer site</th>\n",
       "      <th>ICD-10</th>\n",
       "      <th>Age group (10y.)</th>\n",
       "      <th>Year</th>\n",
       "      <th>Diagnosed cancer cases</th>\n",
       "      <th>Rate per 100,000</th>\n",
       "    </tr>\n",
       "  </thead>\n",
       "  <tbody>\n",
       "    <tr>\n",
       "      <th>0</th>\n",
       "      <td>Male</td>\n",
       "      <td>Lip</td>\n",
       "      <td>C00</td>\n",
       "      <td>0-9</td>\n",
       "      <td>1953</td>\n",
       "      <td>0.0</td>\n",
       "      <td>0.0</td>\n",
       "    </tr>\n",
       "    <tr>\n",
       "      <th>1</th>\n",
       "      <td>Male</td>\n",
       "      <td>Lip</td>\n",
       "      <td>C00</td>\n",
       "      <td>0-9</td>\n",
       "      <td>1954</td>\n",
       "      <td>0.0</td>\n",
       "      <td>0.0</td>\n",
       "    </tr>\n",
       "    <tr>\n",
       "      <th>2</th>\n",
       "      <td>Male</td>\n",
       "      <td>Lip</td>\n",
       "      <td>C00</td>\n",
       "      <td>0-9</td>\n",
       "      <td>1955</td>\n",
       "      <td>0.0</td>\n",
       "      <td>0.0</td>\n",
       "    </tr>\n",
       "    <tr>\n",
       "      <th>3</th>\n",
       "      <td>Male</td>\n",
       "      <td>Lip</td>\n",
       "      <td>C00</td>\n",
       "      <td>0-9</td>\n",
       "      <td>1956</td>\n",
       "      <td>0.0</td>\n",
       "      <td>0.0</td>\n",
       "    </tr>\n",
       "    <tr>\n",
       "      <th>4</th>\n",
       "      <td>Male</td>\n",
       "      <td>Lip</td>\n",
       "      <td>C00</td>\n",
       "      <td>0-9</td>\n",
       "      <td>1957</td>\n",
       "      <td>0.0</td>\n",
       "      <td>0.0</td>\n",
       "    </tr>\n",
       "  </tbody>\n",
       "</table>\n",
       "</div>"
      ],
      "text/plain": [
       "    Sex Cancer site ICD-10 Age group (10y.)  Year  Diagnosed cancer cases  \\\n",
       "0  Male         Lip    C00              0-9  1953                     0.0   \n",
       "1  Male         Lip    C00              0-9  1954                     0.0   \n",
       "2  Male         Lip    C00              0-9  1955                     0.0   \n",
       "3  Male         Lip    C00              0-9  1956                     0.0   \n",
       "4  Male         Lip    C00              0-9  1957                     0.0   \n",
       "\n",
       "   Rate per 100,000  \n",
       "0               0.0  \n",
       "1               0.0  \n",
       "2               0.0  \n",
       "3               0.0  \n",
       "4               0.0  "
      ]
     },
     "execution_count": 15,
     "metadata": {},
     "output_type": "execute_result"
    }
   ],
   "source": [
    "# read incidence data\n",
    "\n",
    "# the data is retrieved 11 Aug 2025 from: https://cancerregistry.fi/statistics/cancer-statistics/\n",
    "# (cancer sites selected individually, values are categorized by: Age group (10y.) and Year (1953-2023), values shown: Rate per 100,000)\n",
    "\n",
    "incidence_df = pd.read_excel('cancer_registry_incidence_data.xlsx')\n",
    "\n",
    "incidence_df.head()"
   ]
  },
  {
   "cell_type": "code",
   "execution_count": 16,
   "id": "18d72c1f-f42d-4081-b690-fe013d97d16a",
   "metadata": {
    "tags": []
   },
   "outputs": [
    {
     "data": {
      "text/html": [
       "<div>\n",
       "<style scoped>\n",
       "    .dataframe tbody tr th:only-of-type {\n",
       "        vertical-align: middle;\n",
       "    }\n",
       "\n",
       "    .dataframe tbody tr th {\n",
       "        vertical-align: top;\n",
       "    }\n",
       "\n",
       "    .dataframe thead th {\n",
       "        text-align: right;\n",
       "    }\n",
       "</style>\n",
       "<table border=\"1\" class=\"dataframe\">\n",
       "  <thead>\n",
       "    <tr style=\"text-align: right;\">\n",
       "      <th></th>\n",
       "      <th>Sex</th>\n",
       "      <th>Cancer site</th>\n",
       "      <th>ICD-10</th>\n",
       "      <th>Age group (10y.)</th>\n",
       "      <th>Year</th>\n",
       "      <th>Diagnosed cancer cases</th>\n",
       "      <th>Rate per 100,000</th>\n",
       "    </tr>\n",
       "  </thead>\n",
       "  <tbody>\n",
       "    <tr>\n",
       "      <th>10</th>\n",
       "      <td>Male</td>\n",
       "      <td>Lip</td>\n",
       "      <td>C00</td>\n",
       "      <td>0-9</td>\n",
       "      <td>1963</td>\n",
       "      <td>0.0</td>\n",
       "      <td>0.00</td>\n",
       "    </tr>\n",
       "    <tr>\n",
       "      <th>11</th>\n",
       "      <td>Male</td>\n",
       "      <td>Lip</td>\n",
       "      <td>C00</td>\n",
       "      <td>0-9</td>\n",
       "      <td>1964</td>\n",
       "      <td>NaN</td>\n",
       "      <td>0.24</td>\n",
       "    </tr>\n",
       "    <tr>\n",
       "      <th>12</th>\n",
       "      <td>Male</td>\n",
       "      <td>Lip</td>\n",
       "      <td>C00</td>\n",
       "      <td>0-9</td>\n",
       "      <td>1965</td>\n",
       "      <td>0.0</td>\n",
       "      <td>0.00</td>\n",
       "    </tr>\n",
       "    <tr>\n",
       "      <th>13</th>\n",
       "      <td>Male</td>\n",
       "      <td>Lip</td>\n",
       "      <td>C00</td>\n",
       "      <td>0-9</td>\n",
       "      <td>1966</td>\n",
       "      <td>0.0</td>\n",
       "      <td>0.00</td>\n",
       "    </tr>\n",
       "    <tr>\n",
       "      <th>14</th>\n",
       "      <td>Male</td>\n",
       "      <td>Lip</td>\n",
       "      <td>C00</td>\n",
       "      <td>0-9</td>\n",
       "      <td>1967</td>\n",
       "      <td>0.0</td>\n",
       "      <td>0.00</td>\n",
       "    </tr>\n",
       "  </tbody>\n",
       "</table>\n",
       "</div>"
      ],
      "text/plain": [
       "     Sex Cancer site ICD-10 Age group (10y.)  Year  Diagnosed cancer cases  \\\n",
       "10  Male         Lip    C00              0-9  1963                     0.0   \n",
       "11  Male         Lip    C00              0-9  1964                     NaN   \n",
       "12  Male         Lip    C00              0-9  1965                     0.0   \n",
       "13  Male         Lip    C00              0-9  1966                     0.0   \n",
       "14  Male         Lip    C00              0-9  1967                     0.0   \n",
       "\n",
       "    Rate per 100,000  \n",
       "10              0.00  \n",
       "11              0.24  \n",
       "12              0.00  \n",
       "13              0.00  \n",
       "14              0.00  "
      ]
     },
     "execution_count": 16,
     "metadata": {},
     "output_type": "execute_result"
    }
   ],
   "source": [
    "# drop years from 1953 to 1962, unrelated to the analysis\n",
    "\n",
    "incidence_df = incidence_df.loc[~incidence_df['Year'].isin([1953, 1954, 1955, 1956, 1957, 1958, 1959, 1960, 1961,1962])]\n",
    "\n",
    "incidence_df.head()"
   ]
  },
  {
   "cell_type": "code",
   "execution_count": 17,
   "id": "ffa2b11a-1a5b-43b4-8175-05bd7ac45ade",
   "metadata": {
    "tags": []
   },
   "outputs": [],
   "source": [
    "# drop cancer types that are not meaningful for the analysis (e.g., non-invasive neoplasms (prestages of cancer), in situ carcinoma (~stage 0 cancer),\n",
    "# borderline tumour (low malignant potential tumour), basal cell carcinoma (spreads very slowly, very rarely will metastasize))\n",
    "\n",
    "incidence_df_adjusted = incidence_df.loc[~incidence_df['Cancer site'].isin(['Basal cell carcinoma of the skin',\n",
    "                                                                            'Basal cell carcinoma of the genitals',\n",
    "                                                                            'Cervix uteri, non-invasive neoplasms',\n",
    "                                                                            'Vagina and vulva, non-invasive neoplasms',\n",
    "                                                                            'Carcinoma in situ of the breast',\n",
    "                                                                            'Borderline tumour of the ovary'])]"
   ]
  },
  {
   "cell_type": "code",
   "execution_count": 18,
   "id": "f858d4a9-d283-456b-8bd7-a443a9baef5c",
   "metadata": {
    "tags": []
   },
   "outputs": [
    {
     "data": {
      "text/plain": [
       "array(['Lip', 'Tongue', 'Salivary glands', 'Mouth, other or unspecified',\n",
       "       'Pharynx', 'Oesophagus', 'Stomach', 'Small intestine', 'Colon',\n",
       "       'Rectum, rectosigmoid', 'Liver', 'Gallbladder, bile ducts',\n",
       "       'Pancreas', 'Digestive organs, other and unspecified',\n",
       "       'Nose, sinuses', 'Larynx, epiglottis', 'Lung, trachea',\n",
       "       'Other or unspecified respiratory or intrathoracic organs',\n",
       "       'Breast', 'Prostate', 'Testis',\n",
       "       'Male genital, other and unspecified', 'Kidney',\n",
       "       'Bladder and urinary tract', 'Melanoma of the skin', 'Eye',\n",
       "       'Thyroid gland', 'Other endocrine glands', 'Bone', 'Soft tissues',\n",
       "       'Ill-defined or unknown', 'Hodgkin lymphoma',\n",
       "       'Myeloma and other plasma cell tumors', 'Mesothelioma',\n",
       "       'Acute lymphoblastic leukaemia/lymphoma',\n",
       "       'Chronic lymphatic leukaemia', 'Leukaemia, other or unspecified',\n",
       "       'Acute myeloid leukaemia',\n",
       "       'Peripheral nerves, autonomic nervous system', 'Anus',\n",
       "       'Malignant immunoproliferative diseases', 'Mantle cell lymphoma',\n",
       "       'Follicular B lymphoma', 'Diffuse B lymphoma',\n",
       "       \"Burkitt's lymphoma/leukaemia\", 'Marginal zone lymphoma',\n",
       "       'Non-Hodgkin lymphoma, other or unspeficied',\n",
       "       'Mature T and NK cell lymphomas/leukaemias',\n",
       "       'Other mature B-cell neoplasms', 'Myeloproliferative neoplasms',\n",
       "       'Other, unspecified or mixed hematological disease', 'Glioma',\n",
       "       'Penis', 'Skin, squamous cell carcinoma', 'Skin, other',\n",
       "       'Meningeoma', 'CNS, nerve sheath tumor',\n",
       "       'Other and unspecified tumor of brain, meninges and central nervous system',\n",
       "       'Adrenal gland',\n",
       "       'Myelodysplastic syndromes and myelodysplastic/myeloproliferative neoplasms',\n",
       "       'Cervix uteri', 'Corpus uteri', 'Ovary etc.',\n",
       "       'Female genital, other and unspecified', 'Vulva', 'Vagina',\n",
       "       'Placenta'], dtype=object)"
      ]
     },
     "execution_count": 18,
     "metadata": {},
     "output_type": "execute_result"
    }
   ],
   "source": [
    "# check unique cancer sites\n",
    "\n",
    "incidence_df_adjusted['Cancer site'].unique()"
   ]
  },
  {
   "cell_type": "code",
   "execution_count": 19,
   "id": "9d8996d7-85e3-403a-8a2a-bcf156110de0",
   "metadata": {
    "tags": []
   },
   "outputs": [],
   "source": [
    "# to improve readibility of the results, some cancer sites are renamed\n",
    "\n",
    "incidence_df_adjusted.loc[incidence_df_adjusted['Cancer site'] == 'Mouth, other or unspecified', 'Cancer site'] = 'Other mouth'\n",
    "incidence_df_adjusted.loc[incidence_df_adjusted['Cancer site'] == 'Rectum, rectosigmoid', 'Cancer site'] = 'Rectum & rectosigmoid'\n",
    "incidence_df_adjusted.loc[incidence_df_adjusted['Cancer site'] == 'Gallbladder, bile ducts', 'Cancer site'] = 'Gallbladder & bile ducts'\n",
    "incidence_df_adjusted.loc[incidence_df_adjusted['Cancer site'] == 'Digestive organs, other and unspecified', 'Cancer site'] = 'Other digestive organs'\n",
    "incidence_df_adjusted.loc[incidence_df_adjusted['Cancer site'] == 'Nose, sinuses', 'Cancer site'] = 'Nose & sinuses'\n",
    "incidence_df_adjusted.loc[incidence_df_adjusted['Cancer site'] == 'Larynx, epiglottis', 'Cancer site'] = 'Larynx & epiglottis'\n",
    "incidence_df_adjusted.loc[incidence_df_adjusted['Cancer site'] == 'Lung, trachea', 'Cancer site'] = 'Lung & trachea' \n",
    "incidence_df_adjusted.loc[incidence_df_adjusted['Cancer site'] == 'Male genital, other and unspecified', 'Cancer site'] = 'Other male genital'\n",
    "incidence_df_adjusted.loc[incidence_df_adjusted['Cancer site'] == 'Bladder and urinary tract', 'Cancer site'] = 'Bladder & urinary tract'\n",
    "incidence_df_adjusted.loc[incidence_df_adjusted['Cancer site'] == 'Myeloma and other plasma cell tumors', 'Cancer site'] = 'Myeloma & other plasma cell tumors'\n",
    "incidence_df_adjusted.loc[incidence_df_adjusted['Cancer site'] == 'Leukaemia, other or unspecified', 'Cancer site'] = 'Other leukaemia'\n",
    "incidence_df_adjusted.loc[incidence_df_adjusted['Cancer site'] == 'Peripheral nerves, autonomic nervous system', 'Cancer site'] = 'Peripheral nerves & autonomic nervous system'\n",
    "incidence_df_adjusted.loc[incidence_df_adjusted['Cancer site'] == 'Non-Hodgkin lymphoma, other or unspeficied', 'Cancer site'] = 'Other non-Hodgkin lymphoma'\n",
    "incidence_df_adjusted.loc[incidence_df_adjusted['Cancer site'] == 'Other, unspecified or mixed hematological disease', 'Cancer site'] = 'Other or unspecified or mixed hematological disease'\n",
    "incidence_df_adjusted.loc[incidence_df_adjusted['Cancer site'] == 'Skin, squamous cell carcinoma', 'Cancer site'] = 'Skin squamous cell carcinoma'\n",
    "incidence_df_adjusted.loc[incidence_df_adjusted['Cancer site'] == 'Skin, other', 'Cancer site'] = 'Other skin'\n",
    "incidence_df_adjusted.loc[incidence_df_adjusted['Cancer site'] == 'CNS, nerve sheath tumor', 'Cancer site'] = 'CNS & nerve sheath tumor'\n",
    "incidence_df_adjusted.loc[incidence_df_adjusted['Cancer site'] == 'Other and unspecified tumor of brain, meninges and central nervous system', 'Cancer site'] = 'Other brain & meninges & CNS'\n",
    "incidence_df_adjusted.loc[incidence_df_adjusted['Cancer site'] == 'Myelodysplastic syndromes and myelodysplastic/myeloproliferative neoplasms', 'Cancer site'] = 'Myelodysplastic syndromes & myelodysplastic/myeloproliferative neoplasms'\n",
    "incidence_df_adjusted.loc[incidence_df_adjusted['Cancer site'] == 'Ovary etc.', 'Cancer site'] = 'Ovary'\n",
    "incidence_df_adjusted.loc[incidence_df_adjusted['Cancer site'] == 'Female genital, other and unspecified', 'Cancer site'] = 'Other female genital'\n"
   ]
  },
  {
   "cell_type": "code",
   "execution_count": 20,
   "id": "ac8f6cae-0d9f-49b8-bac1-c561b82c0997",
   "metadata": {
    "tags": []
   },
   "outputs": [
    {
     "data": {
      "text/plain": [
       "array(['Lip', 'Tongue', 'Salivary glands', 'Other mouth', 'Pharynx',\n",
       "       'Oesophagus', 'Stomach', 'Small intestine', 'Colon',\n",
       "       'Rectum & rectosigmoid', 'Liver', 'Gallbladder & bile ducts',\n",
       "       'Pancreas', 'Other digestive organs', 'Nose & sinuses',\n",
       "       'Larynx & epiglottis', 'Lung & trachea',\n",
       "       'Other or unspecified respiratory or intrathoracic organs',\n",
       "       'Breast', 'Prostate', 'Testis', 'Other male genital', 'Kidney',\n",
       "       'Bladder & urinary tract', 'Melanoma of the skin', 'Eye',\n",
       "       'Thyroid gland', 'Other endocrine glands', 'Bone', 'Soft tissues',\n",
       "       'Ill-defined or unknown', 'Hodgkin lymphoma',\n",
       "       'Myeloma & other plasma cell tumors', 'Mesothelioma',\n",
       "       'Acute lymphoblastic leukaemia/lymphoma',\n",
       "       'Chronic lymphatic leukaemia', 'Other leukaemia',\n",
       "       'Acute myeloid leukaemia',\n",
       "       'Peripheral nerves & autonomic nervous system', 'Anus',\n",
       "       'Malignant immunoproliferative diseases', 'Mantle cell lymphoma',\n",
       "       'Follicular B lymphoma', 'Diffuse B lymphoma',\n",
       "       \"Burkitt's lymphoma/leukaemia\", 'Marginal zone lymphoma',\n",
       "       'Other non-Hodgkin lymphoma',\n",
       "       'Mature T and NK cell lymphomas/leukaemias',\n",
       "       'Other mature B-cell neoplasms', 'Myeloproliferative neoplasms',\n",
       "       'Other or unspecified or mixed hematological disease', 'Glioma',\n",
       "       'Penis', 'Skin squamous cell carcinoma', 'Other skin',\n",
       "       'Meningeoma', 'CNS & nerve sheath tumor',\n",
       "       'Other brain & meninges & CNS', 'Adrenal gland',\n",
       "       'Myelodysplastic syndromes & myelodysplastic/myeloproliferative neoplasms',\n",
       "       'Cervix uteri', 'Corpus uteri', 'Ovary', 'Other female genital',\n",
       "       'Vulva', 'Vagina', 'Placenta'], dtype=object)"
      ]
     },
     "execution_count": 20,
     "metadata": {},
     "output_type": "execute_result"
    }
   ],
   "source": [
    "# check result of the operation\n",
    "\n",
    "incidence_df_adjusted['Cancer site'].unique()"
   ]
  },
  {
   "cell_type": "code",
   "execution_count": 21,
   "id": "decfe1f4-21cc-4290-bd2e-b3d35931cec6",
   "metadata": {
    "tags": []
   },
   "outputs": [],
   "source": [
    "# store processed dataframe into csv file and continue analysis using the attached R-files\n",
    "\n",
    "incidence_df_adjusted.to_csv('incidence.csv', sep=',',\n",
    "                              columns=['Age group (10y.)', 'Sex', 'Cancer site', 'ICD-10', 'Year',\n",
    "                                       'Diagnosed cancer cases', 'Rate per 100,000'],\n",
    "                              index=False)"
   ]
  }
 ],
 "metadata": {
  "kernelspec": {
   "display_name": "Python 3",
   "language": "python",
   "name": "python3"
  },
  "language_info": {
   "codemirror_mode": {
    "name": "ipython",
    "version": 3
   },
   "file_extension": ".py",
   "mimetype": "text/x-python",
   "name": "python",
   "nbconvert_exporter": "python",
   "pygments_lexer": "ipython3",
   "version": "3.10.12"
  }
 },
 "nbformat": 4,
 "nbformat_minor": 5
}
